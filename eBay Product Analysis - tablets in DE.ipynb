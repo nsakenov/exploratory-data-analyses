{
 "cells": [
  {
   "cell_type": "code",
   "execution_count": 1,
   "metadata": {},
   "outputs": [
    {
     "data": {
      "text/html": [
       "<script>\n",
       "code_show=true; \n",
       "function code_toggle() {\n",
       " if (code_show){\n",
       " $('div.input').hide();\n",
       " } else {\n",
       " $('div.input').show();\n",
       " }\n",
       " code_show = !code_show\n",
       "} \n",
       "$( document ).ready(code_toggle);\n",
       "</script>\n",
       "<form action=\"javascript:code_toggle()\"><input type=\"submit\" value=\"Click here to toggle on/off the raw code.\"></form>"
      ],
      "text/plain": [
       "<IPython.core.display.HTML object>"
      ]
     },
     "execution_count": 1,
     "metadata": {},
     "output_type": "execute_result"
    }
   ],
   "source": [
    "from IPython.display import HTML\n",
    "\n",
    "HTML('''<script>\n",
    "code_show=true; \n",
    "function code_toggle() {\n",
    " if (code_show){\n",
    " $('div.input').hide();\n",
    " } else {\n",
    " $('div.input').show();\n",
    " }\n",
    " code_show = !code_show\n",
    "} \n",
    "$( document ).ready(code_toggle);\n",
    "</script>\n",
    "<form action=\"javascript:code_toggle()\"><input type=\"submit\" value=\"Click here to toggle on/off the raw code.\"></form>''')"
   ]
  },
  {
   "cell_type": "markdown",
   "metadata": {},
   "source": [
    "**Intro**"
   ]
  },
  {
   "cell_type": "markdown",
   "metadata": {},
   "source": [
    "The idea for this EDA came from the desire to buy a tablet on eBay. Specifically, I wanted to get answers for these questions: \n",
    "+ How much should I be paying for a tablet?\n",
    "+ What is the average price of a tablet on eBay?\n",
    "+ Is there a relationship between tablet price and seller feedback score? (if tablets cost more when sellers have higher feedback scores)"
   ]
  },
  {
   "cell_type": "code",
   "execution_count": 2,
   "metadata": {},
   "outputs": [],
   "source": [
    "# imports\n",
    "import pandas as pd\n",
    "import json\n",
    "import requests"
   ]
  },
  {
   "cell_type": "code",
   "execution_count": 3,
   "metadata": {},
   "outputs": [],
   "source": [
    "# functions \n",
    "def get_oauth_configuration():\n",
    "    with open('config.json') as config_file:\n",
    "        json_conf = json.load(config_file)\n",
    "    return json_conf\n",
    "\n",
    "def call_limit(total_items):\n",
    "    return int(total_items['total']/200) #200 is the return limit for each call\n",
    "\n",
    "def get_post_code(item_location):\n",
    "    try:\n",
    "        return item_location['postalCode']\n",
    "    except:\n",
    "        return None\n",
    "\n",
    "def get_country(item_location):\n",
    "    try:\n",
    "        return item_location['country']\n",
    "    except:\n",
    "        return None\n",
    "\n",
    "def get_price(price):\n",
    "    try:\n",
    "        return price['value']\n",
    "    except:\n",
    "        return None\n",
    "    \n",
    "def get_initial_currency(price):\n",
    "    try:\n",
    "        return price['currency']\n",
    "    except:\n",
    "        return None\n",
    "    \n",
    "def get_feedback_score(seller):\n",
    "    try:\n",
    "        return seller['feedbackScore']\n",
    "    except:\n",
    "        return None\n",
    "    \n",
    "def get_seller_username(seller):\n",
    "    try:\n",
    "        return seller['username']\n",
    "    except:\n",
    "        return None"
   ]
  },
  {
   "cell_type": "markdown",
   "metadata": {},
   "source": [
    "**Get access to eBay production servers**"
   ]
  },
  {
   "cell_type": "markdown",
   "metadata": {},
   "source": [
    "To connnect to the eBay production servers, you will need to become an eBay Developers Program member and get OAuth Application Token. Please follow instructions [here](https://developer.ebay.com/api-docs/static/make-a-call.html)."
   ]
  },
  {
   "cell_type": "code",
   "execution_count": 4,
   "metadata": {},
   "outputs": [],
   "source": [
    "# authorization configuration\n",
    "json_conf = get_oauth_configuration()\n",
    "oauth_key = \"Bearer %s\" % (json_conf['OAuth'])"
   ]
  },
  {
   "cell_type": "markdown",
   "metadata": {},
   "source": [
    "** Collecting data from eBay production servers**"
   ]
  },
  {
   "cell_type": "code",
   "execution_count": 5,
   "metadata": {},
   "outputs": [],
   "source": [
    "# user inputs, in case the analysis to be used for other products\n",
    "search_item = \"tablet\" \n",
    "category_id = \"171485\"\n",
    "country = \"DE\" # two digit country code\n",
    "buying_option = \"FIXED_PRICE\" # or \"AUCTION\""
   ]
  },
  {
   "cell_type": "markdown",
   "metadata": {},
   "source": [
    "*user inputs:*\n",
    "+ search_item = \"tablet\" \n",
    "+ category_id = \"171485\"\n",
    "+ country = \"DE\" # two digit country code\n",
    "+ buying_option = \"FIXED_PRICE\" # or \"AUCTION\""
   ]
  },
  {
   "cell_type": "markdown",
   "metadata": {},
   "source": [
    "For further configuration:\n",
    "+ Detailed list of category IDs can be found [here](https://pages.ebay.com/sellerinformation/growing/categorychanges/computers-all.html)\n",
    "+ Documentation on [URL parameters](https://developer.ebay.com/api-docs/buy/browse/resources/item_summary/methods/search) and [call field filters](https://developer.ebay.com/api-docs/buy/static/ref-buy-browse-filters.html#buyingOptions)"
   ]
  },
  {
   "cell_type": "code",
   "execution_count": 6,
   "metadata": {},
   "outputs": [],
   "source": [
    "### initial query \n",
    "url = \"https://api.ebay.com/buy/browse/v1/item_summary/search\"\n",
    "\n",
    "item_location_country = \"itemLocationCountry:%s\" %country\n",
    "buying_option_query_string = \"buyingOptions:{%s}\" %buying_option\n",
    "\n",
    "querystring = {\"q\":search_item,\"category_ids\":category_id,\"filter\":[item_location_country,\n",
    "                                      buying_option_query_string],\n",
    "               \"limit\":\"200\"}\n",
    "\n",
    "headers = {\n",
    "    'Authorization': oauth_key,\n",
    "    'Cache-Control': \"no-cache\",\n",
    "    'Postman-Token': \"ea7eb33b-e3d5-489f-9647-df655f34e5cb\"\n",
    "    }\n",
    "\n",
    "response = requests.request(\"GET\", url, headers=headers, params=querystring)\n",
    "\n",
    "# parsing the response\n",
    "item_text = dict(response.json())\n",
    "item_summaries = item_text['itemSummaries']\n",
    "\n",
    "# dataframe from the first result\n",
    "items_df = pd.DataFrame.from_dict(item_summaries)\n",
    "items_df = items_df[[\n",
    "       'condition', 'conditionId', 'itemId', 'itemLocation',\n",
    "       'itemWebUrl', 'price', 'seller', \n",
    "       'title']]"
   ]
  },
  {
   "cell_type": "code",
   "execution_count": 7,
   "metadata": {},
   "outputs": [],
   "source": [
    "# call function to determine the number of times to call API\n",
    "call_limit_number = call_limit(item_text)\n",
    "\n",
    "# set the initial URL to fetch data from the next page\n",
    "url_for_loop = item_text['next']\n",
    "\n",
    "# for loop to fetch all available data for search item\n",
    "for i in range(call_limit_number):\n",
    "    try:\n",
    "        response_next = requests.request(\"GET\", url_for_loop, headers=headers, params=querystring)\n",
    "\n",
    "\n",
    "        # parsing the response\n",
    "        item_text_iteration = dict(response_next.json())\n",
    "        item_summaries_iteration = item_text_iteration['itemSummaries']\n",
    "\n",
    "        # dataframe from the first result\n",
    "        items_iteration = pd.DataFrame.from_dict(item_summaries_iteration)\n",
    "        items_iteration = items_iteration[[\n",
    "           'condition', 'conditionId', 'itemId', 'itemLocation',\n",
    "           'itemWebUrl', 'price', 'seller',\n",
    "           'title']]\n",
    "        \n",
    "        # appending items_df\n",
    "        items_df = items_df.append(items_iteration)\n",
    "\n",
    "        # set the URL to fetch within the for loop for the next page\n",
    "        url_for_loop = item_text_iteration['next']\n",
    "    \n",
    "    except:\n",
    "        break"
   ]
  },
  {
   "cell_type": "code",
   "execution_count": 8,
   "metadata": {},
   "outputs": [
    {
     "data": {
      "text/html": [
       "<div>\n",
       "<table border=\"1\" class=\"dataframe\">\n",
       "  <thead>\n",
       "    <tr style=\"text-align: right;\">\n",
       "      <th></th>\n",
       "      <th>condition</th>\n",
       "      <th>conditionId</th>\n",
       "      <th>itemId</th>\n",
       "      <th>itemLocation</th>\n",
       "      <th>itemWebUrl</th>\n",
       "      <th>price</th>\n",
       "      <th>seller</th>\n",
       "      <th>title</th>\n",
       "    </tr>\n",
       "  </thead>\n",
       "  <tbody>\n",
       "    <tr>\n",
       "      <th>0</th>\n",
       "      <td>Neu</td>\n",
       "      <td>1000</td>\n",
       "      <td>v1|263656865900|0</td>\n",
       "      <td>{'postalCode': '73525', 'country': 'DE'}</td>\n",
       "      <td>https://www.ebay.com/itm/MICROSOFT-SURFACE-PRO...</td>\n",
       "      <td>{'value': '142.11', 'currency': 'USD', 'conver...</td>\n",
       "      <td>{'username': 'microsoftler83', 'feedbackPercen...</td>\n",
       "      <td>MICROSOFT SURFACE PRO 4 WiFi 128GB TABLET PC I...</td>\n",
       "    </tr>\n",
       "    <tr>\n",
       "      <th>1</th>\n",
       "      <td>Used</td>\n",
       "      <td>3000</td>\n",
       "      <td>v1|263692832147|0</td>\n",
       "      <td>{'postalCode': '10178', 'country': 'DE'}</td>\n",
       "      <td>https://www.ebay.com/itm/MINT-Barnes-Noble-Noo...</td>\n",
       "      <td>{'value': '37.43', 'currency': 'USD', 'convert...</td>\n",
       "      <td>{'username': 'truc7de', 'feedbackPercentage': ...</td>\n",
       "      <td>MINT   Barnes  Noble Nook Tablet 7\" (Model Bnt...</td>\n",
       "    </tr>\n",
       "    <tr>\n",
       "      <th>2</th>\n",
       "      <td>Vom Hersteller generalüberholt</td>\n",
       "      <td>2000</td>\n",
       "      <td>v1|372305712989|0</td>\n",
       "      <td>{'postalCode': '37539', 'country': 'DE'}</td>\n",
       "      <td>https://www.ebay.com/itm/Archos-70C-Xenon-8-GB...</td>\n",
       "      <td>{'value': '70.63', 'currency': 'USD', 'convert...</td>\n",
       "      <td>{'username': 'newborn1977', 'feedbackPercentag...</td>\n",
       "      <td>Archos 70C Xenon 8 GB Tablet Android Dual Core...</td>\n",
       "    </tr>\n",
       "  </tbody>\n",
       "</table>\n",
       "</div>"
      ],
      "text/plain": [
       "                        condition conditionId             itemId  \\\n",
       "0                             Neu        1000  v1|263656865900|0   \n",
       "1                            Used        3000  v1|263692832147|0   \n",
       "2  Vom Hersteller generalüberholt        2000  v1|372305712989|0   \n",
       "\n",
       "                               itemLocation  \\\n",
       "0  {'postalCode': '73525', 'country': 'DE'}   \n",
       "1  {'postalCode': '10178', 'country': 'DE'}   \n",
       "2  {'postalCode': '37539', 'country': 'DE'}   \n",
       "\n",
       "                                          itemWebUrl  \\\n",
       "0  https://www.ebay.com/itm/MICROSOFT-SURFACE-PRO...   \n",
       "1  https://www.ebay.com/itm/MINT-Barnes-Noble-Noo...   \n",
       "2  https://www.ebay.com/itm/Archos-70C-Xenon-8-GB...   \n",
       "\n",
       "                                               price  \\\n",
       "0  {'value': '142.11', 'currency': 'USD', 'conver...   \n",
       "1  {'value': '37.43', 'currency': 'USD', 'convert...   \n",
       "2  {'value': '70.63', 'currency': 'USD', 'convert...   \n",
       "\n",
       "                                              seller  \\\n",
       "0  {'username': 'microsoftler83', 'feedbackPercen...   \n",
       "1  {'username': 'truc7de', 'feedbackPercentage': ...   \n",
       "2  {'username': 'newborn1977', 'feedbackPercentag...   \n",
       "\n",
       "                                               title  \n",
       "0  MICROSOFT SURFACE PRO 4 WiFi 128GB TABLET PC I...  \n",
       "1  MINT   Barnes  Noble Nook Tablet 7\" (Model Bnt...  \n",
       "2  Archos 70C Xenon 8 GB Tablet Android Dual Core...  "
      ]
     },
     "execution_count": 8,
     "metadata": {},
     "output_type": "execute_result"
    }
   ],
   "source": [
    "items_df.head(3)"
   ]
  },
  {
   "cell_type": "markdown",
   "metadata": {},
   "source": [
    "The resulting dataset needs to be cleaned before the analysis. Item location, price, and seller columns have nested structures (dictionaries)."
   ]
  },
  {
   "cell_type": "markdown",
   "metadata": {},
   "source": [
    "** Data Cleaning **"
   ]
  },
  {
   "cell_type": "code",
   "execution_count": 9,
   "metadata": {},
   "outputs": [
    {
     "name": "stdout",
     "output_type": "stream",
     "text": [
      "<class 'pandas.core.frame.DataFrame'>\n",
      "Int64Index: 1149 entries, 0 to 148\n",
      "Data columns (total 8 columns):\n",
      "condition       1149 non-null object\n",
      "conditionId     1149 non-null object\n",
      "itemId          1149 non-null object\n",
      "itemLocation    1149 non-null object\n",
      "itemWebUrl      1149 non-null object\n",
      "price           1149 non-null object\n",
      "seller          1149 non-null object\n",
      "title           1149 non-null object\n",
      "dtypes: object(8)\n",
      "memory usage: 80.8+ KB\n"
     ]
    }
   ],
   "source": [
    "# get initial info about dataframe\n",
    "items_df.info()"
   ]
  },
  {
   "cell_type": "markdown",
   "metadata": {},
   "source": [
    "The dataset has 1149 rows and 8 columns. "
   ]
  },
  {
   "cell_type": "code",
   "execution_count": 10,
   "metadata": {},
   "outputs": [
    {
     "name": "stdout",
     "output_type": "stream",
     "text": [
      "Unique items:  987\n"
     ]
    }
   ],
   "source": [
    "# number of unique selling offerings\n",
    "print(\"Unique items: \", items_df.itemId.nunique())"
   ]
  },
  {
   "cell_type": "code",
   "execution_count": 11,
   "metadata": {},
   "outputs": [
    {
     "name": "stdout",
     "output_type": "stream",
     "text": [
      "The shape of dataset after dropping dulplicates:  (987, 8)\n"
     ]
    }
   ],
   "source": [
    "# droping duplicates\n",
    "items_df.drop_duplicates(subset='itemId',inplace=True)\n",
    "print('The shape of dataset after dropping dulplicates: ', items_df.shape)"
   ]
  },
  {
   "cell_type": "code",
   "execution_count": 12,
   "metadata": {},
   "outputs": [],
   "source": [
    "# applying functions to get rid of dictionaries in rows\n",
    "items_df_clean = items_df.copy()\n",
    "\n",
    "# location info\n",
    "items_df_clean['post_code'] = items_df_clean.itemLocation.apply(get_post_code)\n",
    "items_df_clean['country'] = items_df_clean.itemLocation.apply(get_country)\n",
    "items_df_clean.drop('itemLocation', axis=1, inplace=True)\n",
    "\n",
    "# price info\n",
    "items_df_clean['price_value'] = items_df_clean.price.apply(get_price)\n",
    "items_df_clean['currency'] = items_df_clean.price.apply(get_initial_currency)\n",
    "items_df_clean.drop('price', axis=1, inplace=True)\n",
    "\n",
    "# feedback score and seller info\n",
    "items_df_clean['feedback_score'] = items_df_clean.seller.apply(get_feedback_score)\n",
    "items_df_clean['seller_username'] = items_df_clean.seller.apply(get_seller_username)\n",
    "items_df_clean.drop('seller', axis=1, inplace=True)"
   ]
  },
  {
   "cell_type": "code",
   "execution_count": 13,
   "metadata": {},
   "outputs": [
    {
     "name": "stdout",
     "output_type": "stream",
     "text": [
      "<class 'pandas.core.frame.DataFrame'>\n",
      "Int64Index: 987 entries, 0 to 148\n",
      "Data columns (total 11 columns):\n",
      "condition          987 non-null object\n",
      "conditionId        987 non-null object\n",
      "itemId             987 non-null object\n",
      "itemWebUrl         987 non-null object\n",
      "title              987 non-null object\n",
      "post_code          890 non-null object\n",
      "country            987 non-null object\n",
      "price_value        987 non-null object\n",
      "currency           987 non-null object\n",
      "feedback_score     987 non-null int64\n",
      "seller_username    987 non-null object\n",
      "dtypes: int64(1), object(10)\n",
      "memory usage: 92.5+ KB\n"
     ]
    }
   ],
   "source": [
    "items_df_clean.info()"
   ]
  },
  {
   "cell_type": "markdown",
   "metadata": {},
   "source": [
    "Note that data types of columns _postCode_, _conditionId_, _priceValue_ are non numeric. Therefore, these columns need to be transformed to numeric ones. "
   ]
  },
  {
   "cell_type": "code",
   "execution_count": 14,
   "metadata": {},
   "outputs": [],
   "source": [
    "#change the following columns to numeric dtype\n",
    "items_df_clean[['conditionId', 'post_code','price_value', \n",
    "                'feedback_score']] = items_df_clean[['conditionId', 'post_code','price_value', \n",
    "                'feedback_score']].apply(pd.to_numeric, errors='coerse')"
   ]
  },
  {
   "cell_type": "code",
   "execution_count": 15,
   "metadata": {},
   "outputs": [
    {
     "name": "stdout",
     "output_type": "stream",
     "text": [
      "<class 'pandas.core.frame.DataFrame'>\n",
      "Int64Index: 987 entries, 0 to 148\n",
      "Data columns (total 11 columns):\n",
      "condition          987 non-null object\n",
      "conditionId        987 non-null int64\n",
      "itemId             987 non-null object\n",
      "itemWebUrl         987 non-null object\n",
      "title              987 non-null object\n",
      "post_code          890 non-null float64\n",
      "country            987 non-null object\n",
      "price_value        987 non-null float64\n",
      "currency           987 non-null object\n",
      "feedback_score     987 non-null int64\n",
      "seller_username    987 non-null object\n",
      "dtypes: float64(2), int64(2), object(7)\n",
      "memory usage: 92.5+ KB\n"
     ]
    }
   ],
   "source": [
    "items_df_clean.info()"
   ]
  },
  {
   "cell_type": "markdown",
   "metadata": {},
   "source": [
    "After tranformation, we have all columns in proper data types."
   ]
  },
  {
   "cell_type": "code",
   "execution_count": 16,
   "metadata": {},
   "outputs": [
    {
     "data": {
      "text/html": [
       "<div>\n",
       "<table border=\"1\" class=\"dataframe\">\n",
       "  <thead>\n",
       "    <tr style=\"text-align: right;\">\n",
       "      <th></th>\n",
       "      <th>condition</th>\n",
       "      <th>conditionId</th>\n",
       "      <th>itemId</th>\n",
       "      <th>itemWebUrl</th>\n",
       "      <th>title</th>\n",
       "      <th>post_code</th>\n",
       "      <th>country</th>\n",
       "      <th>price_value</th>\n",
       "      <th>currency</th>\n",
       "      <th>feedback_score</th>\n",
       "      <th>seller_username</th>\n",
       "    </tr>\n",
       "  </thead>\n",
       "  <tbody>\n",
       "    <tr>\n",
       "      <th>0</th>\n",
       "      <td>Neu</td>\n",
       "      <td>1000</td>\n",
       "      <td>v1|263656865900|0</td>\n",
       "      <td>https://www.ebay.com/itm/MICROSOFT-SURFACE-PRO...</td>\n",
       "      <td>MICROSOFT SURFACE PRO 4 WiFi 128GB TABLET PC I...</td>\n",
       "      <td>73525.0</td>\n",
       "      <td>DE</td>\n",
       "      <td>142.11</td>\n",
       "      <td>USD</td>\n",
       "      <td>399</td>\n",
       "      <td>microsoftler83</td>\n",
       "    </tr>\n",
       "    <tr>\n",
       "      <th>1</th>\n",
       "      <td>Used</td>\n",
       "      <td>3000</td>\n",
       "      <td>v1|263692832147|0</td>\n",
       "      <td>https://www.ebay.com/itm/MINT-Barnes-Noble-Noo...</td>\n",
       "      <td>MINT   Barnes  Noble Nook Tablet 7\" (Model Bnt...</td>\n",
       "      <td>10178.0</td>\n",
       "      <td>DE</td>\n",
       "      <td>37.43</td>\n",
       "      <td>USD</td>\n",
       "      <td>14760</td>\n",
       "      <td>truc7de</td>\n",
       "    </tr>\n",
       "    <tr>\n",
       "      <th>2</th>\n",
       "      <td>Vom Hersteller generalüberholt</td>\n",
       "      <td>2000</td>\n",
       "      <td>v1|372305712989|0</td>\n",
       "      <td>https://www.ebay.com/itm/Archos-70C-Xenon-8-GB...</td>\n",
       "      <td>Archos 70C Xenon 8 GB Tablet Android Dual Core...</td>\n",
       "      <td>37539.0</td>\n",
       "      <td>DE</td>\n",
       "      <td>70.63</td>\n",
       "      <td>USD</td>\n",
       "      <td>5515</td>\n",
       "      <td>newborn1977</td>\n",
       "    </tr>\n",
       "  </tbody>\n",
       "</table>\n",
       "</div>"
      ],
      "text/plain": [
       "                        condition  conditionId             itemId  \\\n",
       "0                             Neu         1000  v1|263656865900|0   \n",
       "1                            Used         3000  v1|263692832147|0   \n",
       "2  Vom Hersteller generalüberholt         2000  v1|372305712989|0   \n",
       "\n",
       "                                          itemWebUrl  \\\n",
       "0  https://www.ebay.com/itm/MICROSOFT-SURFACE-PRO...   \n",
       "1  https://www.ebay.com/itm/MINT-Barnes-Noble-Noo...   \n",
       "2  https://www.ebay.com/itm/Archos-70C-Xenon-8-GB...   \n",
       "\n",
       "                                               title  post_code country  \\\n",
       "0  MICROSOFT SURFACE PRO 4 WiFi 128GB TABLET PC I...    73525.0      DE   \n",
       "1  MINT   Barnes  Noble Nook Tablet 7\" (Model Bnt...    10178.0      DE   \n",
       "2  Archos 70C Xenon 8 GB Tablet Android Dual Core...    37539.0      DE   \n",
       "\n",
       "   price_value currency  feedback_score seller_username  \n",
       "0       142.11      USD             399  microsoftler83  \n",
       "1        37.43      USD           14760         truc7de  \n",
       "2        70.63      USD            5515     newborn1977  "
      ]
     },
     "execution_count": 16,
     "metadata": {},
     "output_type": "execute_result"
    }
   ],
   "source": [
    "items_df_clean.head(3)"
   ]
  },
  {
   "cell_type": "markdown",
   "metadata": {},
   "source": [
    "The cleaned dataframe looks good. However, lets make sure that some details are matching: \n",
    "+ *country* should be DE (the analysis is only for DE) \n",
    "+ *currency* should be only USD to make it consistent (the initial EDA revealed that there are several currencies in the results)\n",
    "+ *condition* should have no duplicates"
   ]
  },
  {
   "cell_type": "code",
   "execution_count": 17,
   "metadata": {},
   "outputs": [
    {
     "name": "stdout",
     "output_type": "stream",
     "text": [
      "available currencies:  ['USD']\n",
      "available countries:  ['DE']\n",
      "available condition types:  ['Neu' 'Used' 'Vom Hersteller generalüberholt' 'Gebraucht' 'New'\n",
      " 'New other (see details)' 'Neu: Sonstige (siehe Artikelbeschreibung)'\n",
      " 'Als Ersatzteil / defekt' 'New: Never Used'\n",
      " 'Vom Verkäufer generalüberholt' 'Manufacturer refurbished' 'Nuovo'] count:  12\n"
     ]
    }
   ],
   "source": [
    "print(\"available currencies: \", items_df_clean.currency.unique())\n",
    "print(\"available countries: \", items_df_clean.country.unique())\n",
    "print(\"available condition types: \", items_df_clean.condition.unique(), \n",
    "      \"count: \", items_df_clean.condition.nunique())"
   ]
  },
  {
   "cell_type": "markdown",
   "metadata": {},
   "source": [
    "There are **12 different condition categores** in the data, however some of them have the same meanings:\n",
    "\n",
    "+ _Manufacturer refurbished_ **=** _Vom Hersteller generalüberholt_\n",
    "+ _New_ **=** _Neu_ **=** _Nuovo_\n",
    "+ _Used_ **=** _Gebraucht_\n",
    "+ _New other (see details)_ **=** _Neu: Sonstige (siehe Artikelbeschreibung)_"
   ]
  },
  {
   "cell_type": "code",
   "execution_count": 18,
   "metadata": {},
   "outputs": [
    {
     "name": "stdout",
     "output_type": "stream",
     "text": [
      "available conditionID types:  [1000 3000 2000 1500 7000 2500]\n"
     ]
    }
   ],
   "source": [
    "print(\"available conditionID types: \", items_df_clean.conditionId.unique())"
   ]
  },
  {
   "cell_type": "code",
   "execution_count": 22,
   "metadata": {},
   "outputs": [
    {
     "name": "stdout",
     "output_type": "stream",
     "text": [
      "Matching different categories with category IDs:\n",
      "\n"
     ]
    },
    {
     "data": {
      "text/html": [
       "<div>\n",
       "<table border=\"1\" class=\"dataframe\">\n",
       "  <thead>\n",
       "    <tr style=\"text-align: right;\">\n",
       "      <th></th>\n",
       "      <th>condition</th>\n",
       "      <th>conditionId</th>\n",
       "      <th>count</th>\n",
       "    </tr>\n",
       "  </thead>\n",
       "  <tbody>\n",
       "    <tr>\n",
       "      <th>3</th>\n",
       "      <td>Neu</td>\n",
       "      <td>1000</td>\n",
       "      <td>391</td>\n",
       "    </tr>\n",
       "    <tr>\n",
       "      <th>5</th>\n",
       "      <td>New</td>\n",
       "      <td>1000</td>\n",
       "      <td>18</td>\n",
       "    </tr>\n",
       "    <tr>\n",
       "      <th>8</th>\n",
       "      <td>Nuovo</td>\n",
       "      <td>1000</td>\n",
       "      <td>2</td>\n",
       "    </tr>\n",
       "    <tr>\n",
       "      <th>4</th>\n",
       "      <td>Neu: Sonstige (siehe Artikelbeschreibung)</td>\n",
       "      <td>1500</td>\n",
       "      <td>157</td>\n",
       "    </tr>\n",
       "    <tr>\n",
       "      <th>6</th>\n",
       "      <td>New other (see details)</td>\n",
       "      <td>1500</td>\n",
       "      <td>7</td>\n",
       "    </tr>\n",
       "    <tr>\n",
       "      <th>7</th>\n",
       "      <td>New: Never Used</td>\n",
       "      <td>1500</td>\n",
       "      <td>3</td>\n",
       "    </tr>\n",
       "    <tr>\n",
       "      <th>2</th>\n",
       "      <td>Manufacturer refurbished</td>\n",
       "      <td>2000</td>\n",
       "      <td>2</td>\n",
       "    </tr>\n",
       "    <tr>\n",
       "      <th>10</th>\n",
       "      <td>Vom Hersteller generalüberholt</td>\n",
       "      <td>2000</td>\n",
       "      <td>35</td>\n",
       "    </tr>\n",
       "    <tr>\n",
       "      <th>11</th>\n",
       "      <td>Vom Verkäufer generalüberholt</td>\n",
       "      <td>2500</td>\n",
       "      <td>30</td>\n",
       "    </tr>\n",
       "    <tr>\n",
       "      <th>1</th>\n",
       "      <td>Gebraucht</td>\n",
       "      <td>3000</td>\n",
       "      <td>317</td>\n",
       "    </tr>\n",
       "    <tr>\n",
       "      <th>9</th>\n",
       "      <td>Used</td>\n",
       "      <td>3000</td>\n",
       "      <td>6</td>\n",
       "    </tr>\n",
       "    <tr>\n",
       "      <th>0</th>\n",
       "      <td>Als Ersatzteil / defekt</td>\n",
       "      <td>7000</td>\n",
       "      <td>19</td>\n",
       "    </tr>\n",
       "  </tbody>\n",
       "</table>\n",
       "</div>"
      ],
      "text/plain": [
       "                                    condition  conditionId  count\n",
       "3                                         Neu         1000    391\n",
       "5                                         New         1000     18\n",
       "8                                       Nuovo         1000      2\n",
       "4   Neu: Sonstige (siehe Artikelbeschreibung)         1500    157\n",
       "6                     New other (see details)         1500      7\n",
       "7                             New: Never Used         1500      3\n",
       "2                    Manufacturer refurbished         2000      2\n",
       "10             Vom Hersteller generalüberholt         2000     35\n",
       "11              Vom Verkäufer generalüberholt         2500     30\n",
       "1                                   Gebraucht         3000    317\n",
       "9                                        Used         3000      6\n",
       "0                     Als Ersatzteil / defekt         7000     19"
      ]
     },
     "execution_count": 22,
     "metadata": {},
     "output_type": "execute_result"
    }
   ],
   "source": [
    "print('Matching different categories with category IDs:\\n')\n",
    "\n",
    "items_df_clean.groupby(['condition','conditionId']).size().reset_index().rename(columns={0:'count'}).sort_values(by='conditionId')"
   ]
  },
  {
   "cell_type": "markdown",
   "metadata": {},
   "source": [
    "From the table above, we can see that there are language differences in _condition_ column, however conditions are still assignable to unique condtion IDs that are languange independent. So, let's clean up the _condition_ column a bit."
   ]
  },
  {
   "cell_type": "code",
   "execution_count": 31,
   "metadata": {},
   "outputs": [],
   "source": [
    "#updating individual cell values\n",
    "items_df_clean.loc[items_df_clean.conditionId==1000, ['condition']] = 'New'\n",
    "items_df_clean.loc[items_df_clean.conditionId==1500, ['condition']] = 'New other (see details)'\n",
    "items_df_clean.loc[items_df_clean.conditionId==2000, ['condition']] = 'Manufacturer refurbished'\n",
    "items_df_clean.loc[items_df_clean.conditionId==2500, ['condition']] = 'Seller refurbished'\n",
    "items_df_clean.loc[items_df_clean.conditionId==3000, ['condition']] = 'Used'\n",
    "items_df_clean.loc[items_df_clean.conditionId==7000, ['condition']] = 'Spare part/defect'\n",
    "\n",
    "#change condition dtype to categorical\n",
    "items_df_clean.condition = pd.Categorical(items_df_clean.condition)"
   ]
  },
  {
   "cell_type": "code",
   "execution_count": 24,
   "metadata": {},
   "outputs": [
    {
     "data": {
      "text/html": [
       "<div>\n",
       "<table border=\"1\" class=\"dataframe\">\n",
       "  <thead>\n",
       "    <tr style=\"text-align: right;\">\n",
       "      <th></th>\n",
       "      <th>condition</th>\n",
       "      <th>conditionId</th>\n",
       "      <th>count</th>\n",
       "    </tr>\n",
       "  </thead>\n",
       "  <tbody>\n",
       "    <tr>\n",
       "      <th>1</th>\n",
       "      <td>New</td>\n",
       "      <td>1000</td>\n",
       "      <td>411</td>\n",
       "    </tr>\n",
       "    <tr>\n",
       "      <th>2</th>\n",
       "      <td>New other (see details)</td>\n",
       "      <td>1500</td>\n",
       "      <td>167</td>\n",
       "    </tr>\n",
       "    <tr>\n",
       "      <th>0</th>\n",
       "      <td>Manufacturer refurbished</td>\n",
       "      <td>2000</td>\n",
       "      <td>37</td>\n",
       "    </tr>\n",
       "    <tr>\n",
       "      <th>3</th>\n",
       "      <td>Seller refurbished</td>\n",
       "      <td>2500</td>\n",
       "      <td>30</td>\n",
       "    </tr>\n",
       "    <tr>\n",
       "      <th>5</th>\n",
       "      <td>Used</td>\n",
       "      <td>3000</td>\n",
       "      <td>323</td>\n",
       "    </tr>\n",
       "    <tr>\n",
       "      <th>4</th>\n",
       "      <td>Spare part/defect</td>\n",
       "      <td>7000</td>\n",
       "      <td>19</td>\n",
       "    </tr>\n",
       "  </tbody>\n",
       "</table>\n",
       "</div>"
      ],
      "text/plain": [
       "                  condition  conditionId  count\n",
       "1                       New         1000    411\n",
       "2   New other (see details)         1500    167\n",
       "0  Manufacturer refurbished         2000     37\n",
       "3        Seller refurbished         2500     30\n",
       "5                      Used         3000    323\n",
       "4         Spare part/defect         7000     19"
      ]
     },
     "execution_count": 24,
     "metadata": {},
     "output_type": "execute_result"
    }
   ],
   "source": [
    "items_df_clean.groupby(['condition','conditionId']).size().reset_index().rename(columns={0:'count'}).sort_values(by='conditionId')"
   ]
  },
  {
   "cell_type": "markdown",
   "metadata": {},
   "source": [
    "Looks better now :)"
   ]
  },
  {
   "cell_type": "markdown",
   "metadata": {},
   "source": [
    "**Analysis**"
   ]
  },
  {
   "cell_type": "markdown",
   "metadata": {},
   "source": [
    "I want to buy a tablet on eEbay and it would be good to know how much the average price is."
   ]
  },
  {
   "cell_type": "code",
   "execution_count": 25,
   "metadata": {},
   "outputs": [
    {
     "data": {
      "text/plain": [
       "count     987.000000\n",
       "mean      285.810091\n",
       "std       290.248791\n",
       "min         5.890000\n",
       "25%       117.740000\n",
       "50%       176.600000\n",
       "75%       324.330000\n",
       "max      2440.530000\n",
       "Name: price_value, dtype: float64"
      ]
     },
     "execution_count": 25,
     "metadata": {},
     "output_type": "execute_result"
    }
   ],
   "source": [
    "items_df_clean.price_value.describe()"
   ]
  },
  {
   "cell_type": "markdown",
   "metadata": {},
   "source": [
    "The average price for a tablet is around 285USD and the maximum price is 2440USD (which is a lot for a tablet :))"
   ]
  },
  {
   "cell_type": "markdown",
   "metadata": {},
   "source": [
    "Let's visualize the distribution of tablet prices"
   ]
  },
  {
   "cell_type": "code",
   "execution_count": 40,
   "metadata": {},
   "outputs": [
    {
     "data": {
      "image/png": "[encoded data removed]",
      "text/plain": [
       "<matplotlib.figure.Figure at 0x200429da198>"
      ]
     },
     "metadata": {},
     "output_type": "display_data"
    }
   ],
   "source": [
    "import seaborn as sns\n",
    "import matplotlib.pyplot as plt\n",
    "\n",
    "#plot cost distribution\n",
    "plt.figure(figsize=(10,10))\n",
    "sns.swarmplot(x='country', y='price_value', data=items_df_clean, orient='v')\n",
    "plt.title('Distribution of prices for tablets in DE')\n",
    "plt.show()"
   ]
  },
  {
   "cell_type": "markdown",
   "metadata": {},
   "source": [
    "From the graph, we can see that most of the tablets cost below 500USD. So, paying 500USD or less would be good?\n",
    "+ No fast conclusion, the data needs be explored more, lets look into the distribution of prices per condition category."
   ]
  },
  {
   "cell_type": "code",
   "execution_count": 43,
   "metadata": {},
   "outputs": [
    {
     "data": {
      "image/png": "[encoded data removed]",
      "text/plain": [
       "<matplotlib.figure.Figure at 0x20041b31198>"
      ]
     },
     "metadata": {},
     "output_type": "display_data"
    }
   ],
   "source": [
    "#plot cost distribution per condtion\n",
    "plt.figure(figsize=(10,10))\n",
    "sns.violinplot(x='country', y='price_value', data=items_df_clean, hue='condition',orient='v')\n",
    "plt.title('Price breakdown per condition type')\n",
    "plt.show()"
   ]
  },
  {
   "cell_type": "markdown",
   "metadata": {},
   "source": [
    "From the graph above, we can see that prices of new tablets are distributed in the very long tail with the upper 75% of tablets costing below 500USD and the 50% (median) of tablets costing below 250USD. \n",
    "\n",
    "+ Therefore, I would personally consider it as a reasonable price to pay 250USD for a tablet.\n",
    "\n",
    "little note here: the brand of tablet is not taken into consideration ;)"
   ]
  },
  {
   "cell_type": "markdown",
   "metadata": {},
   "source": [
    "Now, I want to find out if there is any relationship between feeback score of the seller and the price."
   ]
  },
  {
   "cell_type": "code",
   "execution_count": 44,
   "metadata": {},
   "outputs": [
    {
     "data": {
      "image/png": "[encoded data removed]",
      "text/plain": [
       "<matplotlib.figure.Figure at 0x200429a0e80>"
      ]
     },
     "metadata": {},
     "output_type": "display_data"
    }
   ],
   "source": [
    "# Plot a linear regression between 'price' and 'feedback score'\n",
    "plt.figure(figsize=(10,10))\n",
    "sns.regplot(x='price_value', y='feedback_score', data=items_df_clean, color='green')\n",
    "plt.title('Correlation between price and seller feedback score')\n",
    "# Display the plot\n",
    "plt.show()"
   ]
  },
  {
   "cell_type": "markdown",
   "metadata": {},
   "source": [
    "Apparently, there is no correlation between feedback score and price. The sellers do not charge more as their feedback scores increase, which is good for buyers."
   ]
  },
  {
   "cell_type": "markdown",
   "metadata": {},
   "source": [
    "Let us have a look at cumulative distribution of feedback scores"
   ]
  },
  {
   "cell_type": "code",
   "execution_count": 64,
   "metadata": {},
   "outputs": [],
   "source": [
    "def ecdf(data):\n",
    "    \"\"\"Compute ECDF for a one-dimensional array of measurements.\"\"\"\n",
    "\n",
    "    # Number of data points: n\n",
    "    n = len(data)\n",
    "\n",
    "    # x-data for the ECDF: x\n",
    "    x = np.sort(data)\n",
    "\n",
    "    # y-data for the ECDF: y\n",
    "    y = np.arange(1, n+1) / n\n",
    "\n",
    "    return x, y"
   ]
  },
  {
   "cell_type": "code",
   "execution_count": 71,
   "metadata": {},
   "outputs": [
    {
     "data": {
      "image/png": "[encoded data removed]",
      "text/plain": [
       "<matplotlib.figure.Figure at 0x20041e76cf8>"
      ]
     },
     "metadata": {},
     "output_type": "display_data"
    }
   ],
   "source": [
    "import numpy as np\n",
    "# Compute ECDF for versicolor data: x_vers, y_vers# Compu \n",
    "x_vers, y_vers = ecdf(items_df_clean.feedback_score)\n",
    "\n",
    "plt.figure(figsize=(10,10))\n",
    "plt.plot(x_vers, y_vers, marker='.', linestyle='none', color='green')\n",
    "plt.margins(0.02)\n",
    "\n",
    "plt.xlabel('Feedback Scores')\n",
    "plt.ylabel('ECDF')\n",
    "plt.title('Cumulative distribution of feedback scores of sellers')\n",
    "\n",
    "plt.show()"
   ]
  },
  {
   "cell_type": "markdown",
   "metadata": {},
   "source": [
    "The CDF graph shows us that most of the tablet sellers (~97%) have feedback score of less than 100,000. Let us find out what are the seller usernames that have the highest feedback scores."
   ]
  },
  {
   "cell_type": "code",
   "execution_count": 75,
   "metadata": {},
   "outputs": [
    {
     "data": {
      "text/html": [
       "<div>\n",
       "<table border=\"1\" class=\"dataframe\">\n",
       "  <thead>\n",
       "    <tr style=\"text-align: right;\">\n",
       "      <th></th>\n",
       "      <th>feedback_score</th>\n",
       "      <th>seller_username</th>\n",
       "    </tr>\n",
       "  </thead>\n",
       "  <tbody>\n",
       "    <tr>\n",
       "      <th>113</th>\n",
       "      <td>864737</td>\n",
       "      <td>tito-express</td>\n",
       "    </tr>\n",
       "    <tr>\n",
       "      <th>109</th>\n",
       "      <td>864378</td>\n",
       "      <td>tito-express</td>\n",
       "    </tr>\n",
       "    <tr>\n",
       "      <th>112</th>\n",
       "      <td>863984</td>\n",
       "      <td>tito-express</td>\n",
       "    </tr>\n",
       "    <tr>\n",
       "      <th>108</th>\n",
       "      <td>180329</td>\n",
       "      <td>www.pcline24</td>\n",
       "    </tr>\n",
       "    <tr>\n",
       "      <th>94</th>\n",
       "      <td>180324</td>\n",
       "      <td>www.pcline24</td>\n",
       "    </tr>\n",
       "    <tr>\n",
       "      <th>104</th>\n",
       "      <td>180322</td>\n",
       "      <td>www.pcline24</td>\n",
       "    </tr>\n",
       "    <tr>\n",
       "      <th>119</th>\n",
       "      <td>180321</td>\n",
       "      <td>www.pcline24</td>\n",
       "    </tr>\n",
       "    <tr>\n",
       "      <th>109</th>\n",
       "      <td>180321</td>\n",
       "      <td>www.pcline24</td>\n",
       "    </tr>\n",
       "    <tr>\n",
       "      <th>102</th>\n",
       "      <td>180321</td>\n",
       "      <td>www.pcline24</td>\n",
       "    </tr>\n",
       "    <tr>\n",
       "      <th>93</th>\n",
       "      <td>180315</td>\n",
       "      <td>www.pcline24</td>\n",
       "    </tr>\n",
       "  </tbody>\n",
       "</table>\n",
       "</div>"
      ],
      "text/plain": [
       "     feedback_score seller_username\n",
       "113          864737    tito-express\n",
       "109          864378    tito-express\n",
       "112          863984    tito-express\n",
       "108          180329    www.pcline24\n",
       "94           180324    www.pcline24\n",
       "104          180322    www.pcline24\n",
       "119          180321    www.pcline24\n",
       "109          180321    www.pcline24\n",
       "102          180321    www.pcline24\n",
       "93           180315    www.pcline24"
      ]
     },
     "execution_count": 75,
     "metadata": {},
     "output_type": "execute_result"
    }
   ],
   "source": [
    "items_df_clean[['feedback_score', 'seller_username']].sort_values('feedback_score', ascending=False).head(10)"
   ]
  },
  {
   "cell_type": "markdown",
   "metadata": {},
   "source": [
    "Looking in detail, I see that a seller with the same username can be assigned multiple feedback scores. Is it on purpose or data quality issue?"
   ]
  },
  {
   "cell_type": "markdown",
   "metadata": {},
   "source": [
    "Last but not least, I would want to see where are most of the tablets (postcodes) are located in Germany. "
   ]
  },
  {
   "cell_type": "code",
   "execution_count": 78,
   "metadata": {},
   "outputs": [
    {
     "data": {
      "text/plain": [
       "59387.0    105\n",
       "30900.0     69\n",
       "28359.0     49\n",
       "72636.0     40\n",
       "45468.0     21\n",
       "10969.0     21\n",
       "86507.0     18\n",
       "21339.0     15\n",
       "55124.0     14\n",
       "70771.0     14\n",
       "90409.0     10\n",
       "47906.0     10\n",
       "86157.0      9\n",
       "69214.0      8\n",
       "72525.0      8\n",
       "Name: post_code, dtype: int64"
      ]
     },
     "execution_count": 78,
     "metadata": {},
     "output_type": "execute_result"
    }
   ],
   "source": [
    "items_df_clean.post_code.value_counts().head(15)"
   ]
  },
  {
   "cell_type": "markdown",
   "metadata": {},
   "source": [
    "Quick google maps search shows that the postcode 59387 is Ascheberg, near Münster. "
   ]
  },
  {
   "cell_type": "markdown",
   "metadata": {},
   "source": [
    "**Conclusions**"
   ]
  },
  {
   "cell_type": "markdown",
   "metadata": {},
   "source": [
    "With a very simple EDA and a bit of reading of eBay documentations, I could get answers to the initial questions that I asked the data. To sum it up:\n",
    "\n",
    "+ The 50% of new tablets prices are around 250USD or less (which is reasonable price for me to pay for a tablet)\n",
    "+ The average price of a tablet on eBay is 285USD.\n",
    "+ There is no correlation between feedback score and price. The sellers do not charge more as their feedback scores increase."
   ]
  },
  {
   "cell_type": "markdown",
   "metadata": {},
   "source": [
    "Other findings:\n",
    "+ When I queried eBay production servers, the results returned duplicates. Is this the case that the same listing can be found more than once in different pages of eBay?\n",
    "+ Condition types are not unique (language differences), however can be assigned to unique condition ids.\n",
    "+ Seller with the same usernames can be assigned multiple feedback scores. "
   ]
  }
 ],
 "metadata": {
  "kernelspec": {
   "display_name": "Python 3",
   "language": "python",
   "name": "python3"
  },
  "language_info": {
   "codemirror_mode": {
    "name": "ipython",
    "version": 3
   },
   "file_extension": ".py",
   "mimetype": "text/x-python",
   "name": "python",
   "nbconvert_exporter": "python",
   "pygments_lexer": "ipython3",
   "version": "3.6.1"
  }
 },
 "nbformat": 4,
 "nbformat_minor": 2
}
